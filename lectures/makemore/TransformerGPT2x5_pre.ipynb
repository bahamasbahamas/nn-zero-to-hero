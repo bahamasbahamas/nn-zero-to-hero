{
 "cells": [
  {
   "cell_type": "code",
   "execution_count": 4,
   "id": "b70f1e92-7645-447a-9f7a-ca3d55e51226",
   "metadata": {
    "tags": []
   },
   "outputs": [
    {
     "name": "stdout",
     "output_type": "stream",
     "text": [
      "--2023-09-07 16:13:09--  https://raw.githubusercontent.com/karpathy/char-rnn/master/data/tinyshakespeare/input.txt\n",
      "Auflösen des Hostnamens raw.githubusercontent.com (raw.githubusercontent.com)… 2606:50c0:8001::154, 2606:50c0:8003::154, 2606:50c0:8000::154, ...\n",
      "Verbindungsaufbau zu raw.githubusercontent.com (raw.githubusercontent.com)|2606:50c0:8001::154|:443 … verbunden.\n",
      "HTTP-Anforderung gesendet, auf Antwort wird gewartet … 200 OK\n",
      "Länge: 1115394 (1,1M) [text/plain]\n",
      "Wird in »input.txt.1« gespeichert.\n",
      "\n",
      "input.txt.1         100%[===================>]   1,06M  --.-KB/s    in 0,1s    \n",
      "\n",
      "2023-09-07 16:13:09 (9,46 MB/s) - »input.txt.1« gespeichert [1115394/1115394]\n",
      "\n"
     ]
    }
   ],
   "source": [
    "# In general, using an exclamation mark before the command will pass the command to the shell (not to the Python interpreter)\n",
    "# We always start with a dataset to train on. Let's download the tiny shakespeare dataset\n",
    "!wget https://raw.githubusercontent.com/karpathy/char-rnn/master/data/tinyshakespeare/input.txt"
   ]
  },
  {
   "cell_type": "code",
   "execution_count": 5,
   "id": "9bc2cd03-cbc9-43c0-8b3d-1e5b073fe28e",
   "metadata": {
    "tags": []
   },
   "outputs": [],
   "source": [
    "# read it in to inspect it\n",
    "with open('input.txt', 'r', encoding='utf-8') as f:\n",
    "    text = f.read()"
   ]
  },
  {
   "cell_type": "code",
   "execution_count": 6,
   "id": "f850b3fa-53d2-4dfc-8fa5-2bb8f7287dbe",
   "metadata": {
    "tags": []
   },
   "outputs": [
    {
     "name": "stdout",
     "output_type": "stream",
     "text": [
      "length of dataset in characters:  1115394\n"
     ]
    }
   ],
   "source": [
    "print(\"length of dataset in characters: \", len(text))"
   ]
  },
  {
   "cell_type": "code",
   "execution_count": 7,
   "id": "fbd29dc7-7de0-4446-bfc3-e9529756b6b5",
   "metadata": {
    "tags": []
   },
   "outputs": [
    {
     "name": "stdout",
     "output_type": "stream",
     "text": [
      "First Citizen:\n",
      "Before we proceed any further, hear me speak.\n",
      "\n",
      "All:\n",
      "Speak, speak.\n",
      "\n",
      "First Citizen:\n",
      "You are all resolved rather to die than to famish?\n",
      "\n",
      "All:\n",
      "Resolved. resolved.\n",
      "\n",
      "First Citizen:\n",
      "First, you know Caius Marcius is chief enemy to the people.\n",
      "\n",
      "All:\n",
      "We know't, we know't.\n",
      "\n",
      "First Citizen:\n",
      "Let us kill him, and we'll have corn at our own price.\n",
      "Is't a verdict?\n",
      "\n",
      "All:\n",
      "No more talking on't; let it be done: away, away!\n",
      "\n",
      "Second Citizen:\n",
      "One word, good citizens.\n",
      "\n",
      "First Citizen:\n",
      "We are accounted poor citizens, the patricians good.\n",
      "What authority surfeits on would relieve us: if they\n",
      "would yield us but the superfluity, while it were\n",
      "wholesome, we might guess they relieved us humanely;\n",
      "but they think we are too dear: the leanness that\n",
      "afflicts us, the object of our misery, is as an\n",
      "inventory to particularise their abundance; our\n",
      "sufferance is a gain to them Let us revenge this with\n",
      "our pikes, ere we become rakes: for the gods know I\n",
      "speak this in hunger for bread, not in thirst for revenge.\n",
      "\n",
      "\n"
     ]
    }
   ],
   "source": [
    "# let's look at the first 1000 characters\n",
    "print(text[:1000])"
   ]
  },
  {
   "cell_type": "code",
   "execution_count": 8,
   "id": "dd000b0a-a3b1-4a96-9982-3cb39df6acb4",
   "metadata": {
    "tags": []
   },
   "outputs": [
    {
     "name": "stdout",
     "output_type": "stream",
     "text": [
      "\n",
      " !$&',-.3:;?ABCDEFGHIJKLMNOPQRSTUVWXYZabcdefghijklmnopqrstuvwxyz\n",
      "65\n"
     ]
    }
   ],
   "source": [
    "chars = sorted(list(set(text)))\n",
    "vocab_size = len(chars)\n",
    "print(''.join(chars))\n",
    "print(vocab_size)"
   ]
  },
  {
   "cell_type": "code",
   "execution_count": 9,
   "id": "0155725c-bc49-4944-93f2-ff9e44e1ac81",
   "metadata": {
    "tags": []
   },
   "outputs": [
    {
     "name": "stdout",
     "output_type": "stream",
     "text": [
      "[46, 47, 47, 1, 58, 46, 43, 56, 43]\n",
      "hii there\n"
     ]
    }
   ],
   "source": [
    "# create a mapping from characters to integers\n",
    "stoi = { ch:i for i,ch in enumerate(chars) }\n",
    "itos = { i:ch for i,ch in enumerate(chars) }\n",
    "encode = lambda s: [stoi[c] for c in s] # encoder: take a string, output a list of integers\n",
    "decode = lambda l: ''.join([itos[i] for i in l]) # decoder: take a list of integers, output a string\n",
    "\n",
    "print(encode(\"hii there\"))\n",
    "print(decode(encode(\"hii there\")))"
   ]
  },
  {
   "cell_type": "code",
   "execution_count": 10,
   "id": "9a02135e-3bd6-4728-af0d-b29d687c9a07",
   "metadata": {
    "tags": []
   },
   "outputs": [
    {
     "name": "stdout",
     "output_type": "stream",
     "text": [
      "torch.Size([1115394]) torch.int64\n",
      "tensor([18, 47, 56, 57, 58,  1, 15, 47, 58, 47, 64, 43, 52, 10,  0, 14, 43, 44,\n",
      "        53, 56, 43,  1, 61, 43,  1, 54, 56, 53, 41, 43, 43, 42,  1, 39, 52, 63,\n",
      "         1, 44, 59, 56, 58, 46, 43, 56,  6,  1, 46, 43, 39, 56,  1, 51, 43,  1,\n",
      "        57, 54, 43, 39, 49,  8,  0,  0, 13, 50, 50, 10,  0, 31, 54, 43, 39, 49,\n",
      "         6,  1, 57, 54, 43, 39, 49,  8,  0,  0, 18, 47, 56, 57, 58,  1, 15, 47,\n",
      "        58, 47, 64, 43, 52, 10,  0, 37, 53, 59,  1, 39, 56, 43,  1, 39, 50, 50,\n",
      "         1, 56, 43, 57, 53, 50, 60, 43, 42,  1, 56, 39, 58, 46, 43, 56,  1, 58,\n",
      "        53,  1, 42, 47, 43,  1, 58, 46, 39, 52,  1, 58, 53,  1, 44, 39, 51, 47,\n",
      "        57, 46, 12,  0,  0, 13, 50, 50, 10,  0, 30, 43, 57, 53, 50, 60, 43, 42,\n",
      "         8,  1, 56, 43, 57, 53, 50, 60, 43, 42,  8,  0,  0, 18, 47, 56, 57, 58,\n",
      "         1, 15, 47, 58, 47, 64, 43, 52, 10,  0, 18, 47, 56, 57, 58,  6,  1, 63,\n",
      "        53, 59,  1, 49, 52, 53, 61,  1, 15, 39, 47, 59, 57,  1, 25, 39, 56, 41,\n",
      "        47, 59, 57,  1, 47, 57,  1, 41, 46, 47, 43, 44,  1, 43, 52, 43, 51, 63,\n",
      "         1, 58, 53,  1, 58, 46, 43,  1, 54, 43, 53, 54, 50, 43,  8,  0,  0, 13,\n",
      "        50, 50, 10,  0, 35, 43,  1, 49, 52, 53, 61,  5, 58,  6,  1, 61, 43,  1,\n",
      "        49, 52, 53, 61,  5, 58,  8,  0,  0, 18, 47, 56, 57, 58,  1, 15, 47, 58,\n",
      "        47, 64, 43, 52, 10,  0, 24, 43, 58,  1, 59, 57,  1, 49, 47, 50, 50,  1,\n",
      "        46, 47, 51,  6,  1, 39, 52, 42,  1, 61, 43,  5, 50, 50,  1, 46, 39, 60,\n",
      "        43,  1, 41, 53, 56, 52,  1, 39, 58,  1, 53, 59, 56,  1, 53, 61, 52,  1,\n",
      "        54, 56, 47, 41, 43,  8,  0, 21, 57,  5, 58,  1, 39,  1, 60, 43, 56, 42,\n",
      "        47, 41, 58, 12,  0,  0, 13, 50, 50, 10,  0, 26, 53,  1, 51, 53, 56, 43,\n",
      "         1, 58, 39, 50, 49, 47, 52, 45,  1, 53, 52,  5, 58, 11,  1, 50, 43, 58,\n",
      "         1, 47, 58,  1, 40, 43,  1, 42, 53, 52, 43, 10,  1, 39, 61, 39, 63,  6,\n",
      "         1, 39, 61, 39, 63,  2,  0,  0, 31, 43, 41, 53, 52, 42,  1, 15, 47, 58,\n",
      "        47, 64, 43, 52, 10,  0, 27, 52, 43,  1, 61, 53, 56, 42,  6,  1, 45, 53,\n",
      "        53, 42,  1, 41, 47, 58, 47, 64, 43, 52, 57,  8,  0,  0, 18, 47, 56, 57,\n",
      "        58,  1, 15, 47, 58, 47, 64, 43, 52, 10,  0, 35, 43,  1, 39, 56, 43,  1,\n",
      "        39, 41, 41, 53, 59, 52, 58, 43, 42,  1, 54, 53, 53, 56,  1, 41, 47, 58,\n",
      "        47, 64, 43, 52, 57,  6,  1, 58, 46, 43,  1, 54, 39, 58, 56, 47, 41, 47,\n",
      "        39, 52, 57,  1, 45, 53, 53, 42,  8,  0, 35, 46, 39, 58,  1, 39, 59, 58,\n",
      "        46, 53, 56, 47, 58, 63,  1, 57, 59, 56, 44, 43, 47, 58, 57,  1, 53, 52,\n",
      "         1, 61, 53, 59, 50, 42,  1, 56, 43, 50, 47, 43, 60, 43,  1, 59, 57, 10,\n",
      "         1, 47, 44,  1, 58, 46, 43, 63,  0, 61, 53, 59, 50, 42,  1, 63, 47, 43,\n",
      "        50, 42,  1, 59, 57,  1, 40, 59, 58,  1, 58, 46, 43,  1, 57, 59, 54, 43,\n",
      "        56, 44, 50, 59, 47, 58, 63,  6,  1, 61, 46, 47, 50, 43,  1, 47, 58,  1,\n",
      "        61, 43, 56, 43,  0, 61, 46, 53, 50, 43, 57, 53, 51, 43,  6,  1, 61, 43,\n",
      "         1, 51, 47, 45, 46, 58,  1, 45, 59, 43, 57, 57,  1, 58, 46, 43, 63,  1,\n",
      "        56, 43, 50, 47, 43, 60, 43, 42,  1, 59, 57,  1, 46, 59, 51, 39, 52, 43,\n",
      "        50, 63, 11,  0, 40, 59, 58,  1, 58, 46, 43, 63,  1, 58, 46, 47, 52, 49,\n",
      "         1, 61, 43,  1, 39, 56, 43,  1, 58, 53, 53,  1, 42, 43, 39, 56, 10,  1,\n",
      "        58, 46, 43,  1, 50, 43, 39, 52, 52, 43, 57, 57,  1, 58, 46, 39, 58,  0,\n",
      "        39, 44, 44, 50, 47, 41, 58, 57,  1, 59, 57,  6,  1, 58, 46, 43,  1, 53,\n",
      "        40, 48, 43, 41, 58,  1, 53, 44,  1, 53, 59, 56,  1, 51, 47, 57, 43, 56,\n",
      "        63,  6,  1, 47, 57,  1, 39, 57,  1, 39, 52,  0, 47, 52, 60, 43, 52, 58,\n",
      "        53, 56, 63,  1, 58, 53,  1, 54, 39, 56, 58, 47, 41, 59, 50, 39, 56, 47,\n",
      "        57, 43,  1, 58, 46, 43, 47, 56,  1, 39, 40, 59, 52, 42, 39, 52, 41, 43,\n",
      "        11,  1, 53, 59, 56,  0, 57, 59, 44, 44, 43, 56, 39, 52, 41, 43,  1, 47,\n",
      "        57,  1, 39,  1, 45, 39, 47, 52,  1, 58, 53,  1, 58, 46, 43, 51,  1, 24,\n",
      "        43, 58,  1, 59, 57,  1, 56, 43, 60, 43, 52, 45, 43,  1, 58, 46, 47, 57,\n",
      "         1, 61, 47, 58, 46,  0, 53, 59, 56,  1, 54, 47, 49, 43, 57,  6,  1, 43,\n",
      "        56, 43,  1, 61, 43,  1, 40, 43, 41, 53, 51, 43,  1, 56, 39, 49, 43, 57,\n",
      "        10,  1, 44, 53, 56,  1, 58, 46, 43,  1, 45, 53, 42, 57,  1, 49, 52, 53,\n",
      "        61,  1, 21,  0, 57, 54, 43, 39, 49,  1, 58, 46, 47, 57,  1, 47, 52,  1,\n",
      "        46, 59, 52, 45, 43, 56,  1, 44, 53, 56,  1, 40, 56, 43, 39, 42,  6,  1,\n",
      "        52, 53, 58,  1, 47, 52,  1, 58, 46, 47, 56, 57, 58,  1, 44, 53, 56,  1,\n",
      "        56, 43, 60, 43, 52, 45, 43,  8,  0,  0])\n"
     ]
    }
   ],
   "source": [
    "# let's now encode the entire text dataset and store it into a torch.Tensor\n",
    "import torch \n",
    "data = torch.tensor(encode(text), dtype=torch.long)\n",
    "print(data.shape, data.dtype) # same as print(\"length of dataset in characters: \", len(text))\n",
    "\n",
    "print(data[:1000]) # the 1000 characters we looked at earier will to the GPT look like this"
   ]
  },
  {
   "cell_type": "code",
   "execution_count": 11,
   "id": "74bde5b6-5337-4cd8-9d2c-b4f3872e9f66",
   "metadata": {
    "tags": []
   },
   "outputs": [],
   "source": [
    "# Let's now split up the data into train and validation sets\n",
    "n = int(0.9*len(data)) # first 90% will be train, rest val\n",
    "train_data = data[:n]\n",
    "val_data = data[n:]"
   ]
  },
  {
   "cell_type": "code",
   "execution_count": 12,
   "id": "b4619c79-a887-42d2-8137-305044715277",
   "metadata": {
    "tags": []
   },
   "outputs": [
    {
     "data": {
      "text/plain": [
       "tensor([18, 47, 56, 57, 58,  1, 15, 47, 58])"
      ]
     },
     "execution_count": 12,
     "metadata": {},
     "output_type": "execute_result"
    }
   ],
   "source": [
    "block_size = 8\n",
    "train_data[:block_size+1]"
   ]
  },
  {
   "cell_type": "code",
   "execution_count": 13,
   "id": "d4642e16-c8a8-443f-96d2-4727170b82c3",
   "metadata": {
    "tags": []
   },
   "outputs": [
    {
     "name": "stdout",
     "output_type": "stream",
     "text": [
      "when input is tensor([18]) the target is: 47\n",
      "when input is tensor([18, 47]) the target is: 56\n",
      "when input is tensor([18, 47, 56]) the target is: 57\n",
      "when input is tensor([18, 47, 56, 57]) the target is: 58\n",
      "when input is tensor([18, 47, 56, 57, 58]) the target is: 1\n",
      "when input is tensor([18, 47, 56, 57, 58,  1]) the target is: 15\n",
      "when input is tensor([18, 47, 56, 57, 58,  1, 15]) the target is: 47\n",
      "when input is tensor([18, 47, 56, 57, 58,  1, 15, 47]) the target is: 58\n"
     ]
    }
   ],
   "source": [
    "# time dimension of the transformers \n",
    "# it seems we do input all the information from only one input to block_size input \n",
    "# hence the transformer can predict the next character only with one input given \n",
    "\n",
    "x = train_data[:block_size]\n",
    "y = train_data[1:block_size+1]\n",
    "for t in range(block_size):\n",
    "    context  = x[:t+1]\n",
    "    target = y[t]\n",
    "    print(f\"when input is {context} the target is: {target}\")"
   ]
  },
  {
   "cell_type": "code",
   "execution_count": 14,
   "id": "1eb99f28-ed88-435f-8efc-991492a358af",
   "metadata": {
    "tags": []
   },
   "outputs": [
    {
     "name": "stdout",
     "output_type": "stream",
     "text": [
      "inputs:\n",
      "torch.Size([4, 8])\n",
      "tensor([[24, 43, 58,  5, 57,  1, 46, 43],\n",
      "        [44, 53, 56,  1, 58, 46, 39, 58],\n",
      "        [52, 58,  1, 58, 46, 39, 58,  1],\n",
      "        [25, 17, 27, 10,  0, 21,  1, 54]])\n",
      "targets:\n",
      "torch.Size([4, 8])\n",
      "tensor([[43, 58,  5, 57,  1, 46, 43, 39],\n",
      "        [53, 56,  1, 58, 46, 39, 58,  1],\n",
      "        [58,  1, 58, 46, 39, 58,  1, 46],\n",
      "        [17, 27, 10,  0, 21,  1, 54, 39]])\n",
      "----\n",
      "when input is [24] the target: 43\n",
      "when input is [24, 43] the target: 58\n",
      "when input is [24, 43, 58] the target: 5\n",
      "when input is [24, 43, 58, 5] the target: 57\n",
      "when input is [24, 43, 58, 5, 57] the target: 1\n",
      "when input is [24, 43, 58, 5, 57, 1] the target: 46\n",
      "when input is [24, 43, 58, 5, 57, 1, 46] the target: 43\n",
      "when input is [24, 43, 58, 5, 57, 1, 46, 43] the target: 39\n",
      "when input is [44] the target: 53\n",
      "when input is [44, 53] the target: 56\n",
      "when input is [44, 53, 56] the target: 1\n",
      "when input is [44, 53, 56, 1] the target: 58\n",
      "when input is [44, 53, 56, 1, 58] the target: 46\n",
      "when input is [44, 53, 56, 1, 58, 46] the target: 39\n",
      "when input is [44, 53, 56, 1, 58, 46, 39] the target: 58\n",
      "when input is [44, 53, 56, 1, 58, 46, 39, 58] the target: 1\n",
      "when input is [52] the target: 58\n",
      "when input is [52, 58] the target: 1\n",
      "when input is [52, 58, 1] the target: 58\n",
      "when input is [52, 58, 1, 58] the target: 46\n",
      "when input is [52, 58, 1, 58, 46] the target: 39\n",
      "when input is [52, 58, 1, 58, 46, 39] the target: 58\n",
      "when input is [52, 58, 1, 58, 46, 39, 58] the target: 1\n",
      "when input is [52, 58, 1, 58, 46, 39, 58, 1] the target: 46\n",
      "when input is [25] the target: 17\n",
      "when input is [25, 17] the target: 27\n",
      "when input is [25, 17, 27] the target: 10\n",
      "when input is [25, 17, 27, 10] the target: 0\n",
      "when input is [25, 17, 27, 10, 0] the target: 21\n",
      "when input is [25, 17, 27, 10, 0, 21] the target: 1\n",
      "when input is [25, 17, 27, 10, 0, 21, 1] the target: 54\n",
      "when input is [25, 17, 27, 10, 0, 21, 1, 54] the target: 39\n"
     ]
    }
   ],
   "source": [
    "torch.manual_seed(1337)\n",
    "batch_size = 4 # how many independent sequences will we process in parallel?\n",
    "block_size = 8 # what is the maximum context length for predictions?\n",
    "\n",
    "def get_batch(split):\n",
    "    # generate a small batch of data of inputs x and targets y\n",
    "    data = train_data if split == 'train' else val_data\n",
    "    \n",
    "    # torch.randint(low=0, high, size, \\*, generator=None, out=None, dtype=None, layout=torch.strided, device=None, requires_grad=False)\n",
    "    # second argument (batch_size) is the tensor's dimension\n",
    "    \n",
    "    # give me a 1-dimensional tensor length batch_size with indicies from our data list like [1,5,1000,55]\n",
    "    ix = torch.randint(len(data) - block_size, (batch_size,))\n",
    "    # print('print ix')\n",
    "    # print(ix)\n",
    "    \n",
    "    # torch.stack(tensors, dim=0, *, out=None)\n",
    "    # for example in the first itereation if i = 5 I would create a tensor with the shape of (8,0) from data[5:13]\n",
    "    # storch.stack will stack our 4 tensors and create a new 8x4 tensor \n",
    "    x = torch.stack([data[i:i+block_size] for i in ix])\n",
    "    \n",
    "    # here if = 5 we get [data[5+1:5+block_size+1]\n",
    "    y = torch.stack([data[i+1:i+block_size+1] for i in ix])\n",
    "                                \n",
    "    # x = [[52, 57, 59, 50,  6,  1, 57, 53],\n",
    "    #      [52, 57, 59, 50,  6,  1, 57, 53],\n",
    "    #      [52, 57, 59, 50,  6,  1, 57, 53],\n",
    "    #      [52, 57, 59, 50,  6,  1, 57, 53]]\n",
    "    # same shape for y\n",
    "    \n",
    "    return x, y\n",
    "\n",
    "xb, yb = get_batch('train')\n",
    "\n",
    "print('inputs:')\n",
    "print(xb.shape)\n",
    "print(xb)\n",
    "\n",
    "print('targets:')\n",
    "print(yb.shape)\n",
    "print(yb)\n",
    "\n",
    "print('----')\n",
    "\n",
    "for b in range(batch_size): # batch dimension\n",
    "    for t in range(block_size): # time dimension\n",
    "        context = xb[b, :t+1]\n",
    "        target = yb[b,t]\n",
    "        print(f\"when input is {context.tolist()} the target: {target}\")"
   ]
  },
  {
   "cell_type": "code",
   "execution_count": 15,
   "id": "506cda60-83ce-4bdc-8d2d-80e3ea24d781",
   "metadata": {
    "tags": []
   },
   "outputs": [
    {
     "name": "stdout",
     "output_type": "stream",
     "text": [
      "torch.Size([4, 8])\n",
      "logits shape:  torch.Size([32, 65])\n",
      "tensor([-1.5101, -0.0948,  1.0927,  0.1505,  1.6347, -0.0518,  0.4996,  0.7216,\n",
      "        -0.8968, -0.4122,  1.0030,  0.8508,  0.2178,  0.0328, -0.1699,  1.0659,\n",
      "        -0.6177,  1.1824,  0.0214, -0.2154, -1.4623,  2.1707,  0.1624,  1.0296,\n",
      "         0.4154,  0.6207,  0.2341, -0.0326,  1.0124,  1.5122, -0.3359,  0.2456,\n",
      "         1.8682,  0.7536, -0.1177, -0.1967, -0.9552, -0.8995, -0.9583, -0.5945,\n",
      "         0.1321, -0.5406,  0.1405, -0.7321,  1.1796,  1.3316, -0.2094,  0.0960,\n",
      "         0.9040, -0.4032,  0.3027, -0.8034, -1.2537, -1.5195,  0.7446,  1.1914,\n",
      "        -0.8061, -0.6290,  1.2447, -2.4400,  0.8408, -0.3993, -0.6126, -0.6597,\n",
      "         0.7624], grad_fn=<SelectBackward0>)\n",
      "tensor(4.8786, grad_fn=<NllLossBackward0>)\n",
      "\n",
      "SKIcLT;AcELMoTbvZv C?nq-QE33:CJqkOKH-q;:la!oiywkHjgChzbQ?u!3bLIgwevmyFJGUGp\n",
      "wnYWmnxKWWev-tDqXErVKLgJ\n"
     ]
    }
   ],
   "source": [
    "import torch\n",
    "import torch.nn as nn\n",
    "from torch.nn import functional as F\n",
    "torch.manual_seed(1337)\n",
    "\n",
    "\n",
    "# this is the way we do inheritance in python, we give the parent as an argument to the child module \n",
    "class BigramLanguageModel(nn.Module):\n",
    "\n",
    "    # when we call the BigramLanguageModel, vocab_size = 65\n",
    "    def __init__(self, vocab_size):\n",
    "        super().__init__()\n",
    "        # here in the constructor we create a vocab_table 65x65\n",
    "        # each token directly reads off the logits for the next token from a lookup table\n",
    "        # nn.Emedding is a small wrapper arround a tensor of the shape (vocab_size, vocab_size)\n",
    "        \n",
    "        # tensor([[24, 43, 58,  5, 57,  1, 46, 43],\n",
    "        # [44, 53, 56,  1, 58, 46, 39, 58],\n",
    "        # [52, 58,  1, 58, 46, 39, 58,  1],\n",
    "        # [25, 17, 27, 10,  0, 21,  1, 54]])\n",
    "        \n",
    "        # the first index 24 will plug out the 24th row of the embedding table \n",
    "        \n",
    "        # In `nn.Embedding(vocab_size, vocab_size)`, the first argument is the number of items in your vocabulary \n",
    "        # (tokens to embed) and the second argument is the dimensions of each embedding \n",
    "        # (size of the embedding vector for each token).\n",
    "        \n",
    "        # this is exactly the same as we have seen in the previouse tutorials with the embedding table \n",
    "        # C = torch.randn((27, 2), generator=g) # mapping of 27 characters into 2-dimensional vector space \n",
    "        self.token_embedding_table = nn.Embedding(vocab_size, vocab_size)\n",
    "\n",
    "    # idx is the inputs, targets our expected outputs \n",
    "    # we inherit the forward function from the parent module \n",
    "    def forward(self, idx, targets=None):\n",
    "\n",
    "        # idx and targets are both (B,T) tensor of integers\n",
    "        # 4 batches with 8 characters (from the o. text) and 65 different integers (representing our vacabular)\n",
    "        \n",
    "        # her we feed our input into the embedding table like we saw in our makemore series \n",
    "        \n",
    "        # forward pass\n",
    "        # emb = C[X] # [32,3,2]\n",
    "        # h = torch.tanh(emb.view(X.shape[0], 6) @ W1+b1) # (X.shape[0], 100)\n",
    "        # logits = h @ W2 + b2 # (32, 27)\n",
    "        \n",
    "        ####################\n",
    "        # now it makes sence we got a 8x65 tensor (matrix) and we got 4 of them (batch size)\n",
    "        # logit[0] returns me the probabilities of all the 65 charactersa (vocab size) \n",
    "        # for the first character of the first list of 8 characters (time dimension)\n",
    "        ####################\n",
    "        logits = self.token_embedding_table(idx) # (B,T,C) , batch size = 4 -> torch.Size([4, 8, 65])\n",
    "        #print('logits shape:     ', logits.shape)\n",
    "        # logits shape:      torch.Size([1, 1, 65])\n",
    "        # idx shape:       torch.Size([1, 2])\n",
    "        # logits shape:      torch.Size([1, 2, 65])\n",
    "        # idx shape:       torch.Size([1, 3])\n",
    "        # logits shape:      torch.Size([1, 3, 65])\n",
    "        # idx shape:       torch.Size([1, 4])\n",
    "        # logits shape:      torch.Size([1, 4, 65])\n",
    "        # idx shape:       torch.Size([1, 5])\n",
    "        # logits shape:      torch.Size([1, 5, 65])\n",
    "        # idx shape:       torch.Size([1, 6])\n",
    "        # logits shape:      torch.Size([1, 6, 65])\n",
    "        # idx shape:       torch.Size([1, 7])\n",
    "        # logits shape:      torch.Size([1, 7, 65])\n",
    "        # idx shape:       torch.Size([1, 8])\n",
    "        # logits shape:      torch.Size([1, 8, 65])\n",
    "\n",
    "        if targets is None:\n",
    "            loss = None\n",
    "        else:\n",
    "            B, T, C = logits.shape # but pytorch wants a BxCxT\n",
    "            \n",
    "            # The cross entropy loss in PyTorch expects input tensors (logits) of shape \n",
    "            # (batch_size, number_of_classes) and target tensor of shape (batch_size). \n",
    "            # The T dimension in the input tensor is for time steps, typically used \n",
    "            # for time-series or sequential data like in this case.\n",
    "            # In this code, the inputs (logits) and targets tensors are of shape (B, T, C) \n",
    "            # and (B, T) respectively, where B stands for batch size, T \n",
    "            # for time steps (sequence length) and C for number of classes. \n",
    "            # Each time step is treated as a separate instance.\n",
    "            # Hence we need to reshape it into the format the loss function expects, \n",
    "            # combining the batch and time step (sequence) dimensions together. This is done using the view function. \n",
    "            logits = logits.view(B*T, C)\n",
    "            \n",
    "            # print(logits[:10])\n",
    "            # print(targets[:2])\n",
    "            targets = targets.view(B*T)\n",
    "            # print(targets[:10])\n",
    "            loss = F.cross_entropy(logits, targets)  # we always call F.cross_entropy with our X (inputs) and Y (targets)\n",
    "\n",
    "        return logits, loss\n",
    "    \n",
    "    def generate(self, idx, max_new_tokens):\n",
    "        # idx is (B, T) array of indices in the current context\n",
    "        for _ in range(max_new_tokens):\n",
    "            # print('idx shape:      ', idx.shape)\n",
    "            # idx shape:       torch.Size([1, 1])\n",
    "            # idx shape:       torch.Size([1, 2])\n",
    "            # idx shape:       torch.Size([1, 3])\n",
    "            # idx shape:       torch.Size([1, 4])\n",
    "            # idx shape:       torch.Size([1, 5])\n",
    "            # idx shape:       torch.Size([1, 6])\n",
    "            # idx shape:       torch.Size([1, 7])\n",
    "            # idx shape:       torch.Size([1, 8])\n",
    "            # idx shape:       torch.Size([1, 9])\n",
    "            # idx shape:       torch.Size([1, 10])\n",
    "            # get the predictions, calls the forward function\n",
    "            logits, loss = self(idx)\n",
    "            # focus only on the last time step, see below\n",
    "            logits = logits[:, -1, :] # becomes (B, C)\n",
    "            # apply softmax to get probabilities\n",
    "            probs = F.softmax(logits, dim=-1) # (B, C)\n",
    "            # sample from the distribution\n",
    "            idx_next = torch.multinomial(probs, num_samples=1) # (B, 1)\n",
    "            # append sampled index to the running sequence\n",
    "            idx = torch.cat((idx, idx_next), dim=1) # (B, T+1)\n",
    "        # this is still a tensor\n",
    "        # print(idx)\n",
    "        # this is a list\n",
    "        # print(idx[0].tolist())\n",
    "        return idx\n",
    "    \n",
    "m = BigramLanguageModel(vocab_size)\n",
    "print(xb.shape)\n",
    "logits, loss = m(xb, yb)\n",
    "print('logits shape: ', logits.shape)\n",
    "print(logits[0])\n",
    "print(loss)\n",
    "\n",
    "# returns list of intergers\n",
    "# torch.zeros((1, 1) this means we feed a new lin /n into our models a a first element, as a starter \n",
    "output = m.generate(idx = torch.zeros((1, 1), dtype=torch.long), max_new_tokens=100)[0].tolist()\n",
    "print(decode(output))"
   ]
  },
  {
   "cell_type": "code",
   "execution_count": 16,
   "id": "2841d0ce-66c9-4208-9f22-2d2e1f81704c",
   "metadata": {
    "tags": []
   },
   "outputs": [
    {
     "name": "stdout",
     "output_type": "stream",
     "text": [
      "tensor([[[ -4.1172,  -8.8501,  17.1000, -16.6932,  -0.7150],\n",
      "         [  7.7123,   7.9038,   4.0277,   7.2037,  16.7742],\n",
      "         [  3.2786,   7.7607,  -6.6621,   6.2072,   4.7853],\n",
      "         [ -6.9713, -16.3413, -15.8925,  11.6818,   6.8634]],\n",
      "\n",
      "        [[  6.2500,  -8.3937,  13.5834,  -0.5013,  -8.1077],\n",
      "         [  9.0937,   3.0796,   6.4025,   1.3968, -26.4485],\n",
      "         [ -1.8489,  11.7842,  11.4323,  19.8177,  10.9542],\n",
      "         [-10.2592,   9.0533,  -9.7536,  -5.3635,  -4.0386]],\n",
      "\n",
      "        [[  8.8603,  12.9762,  -0.2454,   8.4495,  -5.4449],\n",
      "         [  5.6271,   1.6995,  -4.0441,  -2.1657,  -5.4513],\n",
      "         [  4.4748, -22.3390,  -9.8559,   7.6238,  18.0343],\n",
      "         [ 10.6253,  10.7586,  12.5352,   6.7576,  11.9644]]])\n",
      "tensor([[ -6.9713, -16.3413, -15.8925,  11.6818,   6.8634],\n",
      "        [-10.2592,   9.0533,  -9.7536,  -5.3635,  -4.0386],\n",
      "        [ 10.6253,  10.7586,  12.5352,   6.7576,  11.9644]])\n"
     ]
    }
   ],
   "source": [
    "# this returns the last element of each 0-dimension resulting in a 3x5\n",
    "a = torch.randn((3,4,5))*10\n",
    "print(a)\n",
    "print(a[:, -1, :])"
   ]
  },
  {
   "cell_type": "code",
   "execution_count": 17,
   "id": "10ad132b-5231-48a7-b837-d5a611fa0e42",
   "metadata": {
    "tags": []
   },
   "outputs": [],
   "source": [
    "# okay it was his intention to make it stupid in in the beginning\n",
    "# I was asking myself why we feed the hole 100x64 probabilities into the model in the last step for example\n",
    "# and in the bigram model only look for the last layer\n",
    "# but we will make the architekture better and use the code as a starting point to improve \n"
   ]
  },
  {
   "cell_type": "code",
   "execution_count": 18,
   "id": "eabe143c-6b68-44c6-be84-9fb88089aaec",
   "metadata": {},
   "outputs": [],
   "source": [
    "######### we start new from here and train the model"
   ]
  },
  {
   "cell_type": "code",
   "execution_count": 19,
   "id": "2be6762e-1b7c-42dd-b3a6-c2f5d772d269",
   "metadata": {
    "tags": []
   },
   "outputs": [],
   "source": [
    "# create a PyTorch optimizer\n",
    "# optimizer = torch.optim.SGD for gradient descent like in makemore but ADAM is better\n",
    "# learning rate lr=1e-3\n",
    "optimizer = torch.optim.AdamW(m.parameters(), lr=1e-3)"
   ]
  },
  {
   "cell_type": "code",
   "execution_count": 20,
   "id": "fb7a02d3-e1d0-42d8-9ad4-7a5e02da6837",
   "metadata": {
    "tags": []
   },
   "outputs": [
    {
     "name": "stdout",
     "output_type": "stream",
     "text": [
      "hello\n"
     ]
    }
   ],
   "source": [
    "print(\"hello\")"
   ]
  },
  {
   "cell_type": "code",
   "execution_count": 21,
   "id": "13afa30d-3f94-4408-8bcf-b02e7bc67e1b",
   "metadata": {
    "tags": []
   },
   "outputs": [
    {
     "name": "stdout",
     "output_type": "stream",
     "text": [
      "2.504723072052002\n"
     ]
    }
   ],
   "source": [
    "# batch size is now 32 instead of 4\n",
    "batch_size = 32\n",
    "# training loop \n",
    "for steps in range(10000): # increase number of steps for good results... \n",
    "    \n",
    "    ## forward pass\n",
    "    # sample a batch of data\n",
    "    xb, yb = get_batch('train')\n",
    "\n",
    "    # evaluate the loss\n",
    "    logits, loss = m(xb, yb)\n",
    "    \n",
    "    ## backward pass\n",
    "    # we have to zero the gradients before each round \n",
    "    optimizer.zero_grad(set_to_none=True)\n",
    "    loss.backward()\n",
    "    \n",
    "    ## update pass\n",
    "    optimizer.step()\n",
    "print(loss.item())\n",
    "\n"
   ]
  },
  {
   "cell_type": "code",
   "execution_count": 22,
   "id": "dbc73951-dfa7-4bcf-a3cd-56a7aafd56bd",
   "metadata": {},
   "outputs": [
    {
     "name": "stdout",
     "output_type": "stream",
     "text": [
      "\n",
      "To tod!\n",
      "Whit d INIED bt thnde\n",
      "\n",
      "Yoty t I thirin lan dsrgaleain thacy nee he ghealemeaQTlanchi'sblit NRIshe J$vele,\n",
      "\n",
      "BRCEONThatece mure, therall, k gg branopoulan w, h cqurpinony n silley arereny ctllvetert e tierscar d PORI g, he? g t, t ttreds'd t O,\n",
      "D be o, I m e REThe, e nd r theounem s halant oure d?\n",
      "Orot nelind qu insorayom.\n",
      "LINVe be bor thyonge de IUETANGounsis ay lde ay ha'Titere to;Jor f ksathidst I'Ay INARTIE:\n",
      "\n",
      "G oug pe NRUCLLOLOKEDUSthtotathane;\n",
      "CO! wall memyrmps me feer waredsoo ure,co\n"
     ]
    }
   ],
   "source": [
    "output = m.generate(idx = torch.zeros((1, 1), dtype=torch.long), max_new_tokens=500)[0].tolist()\n",
    "print(decode(output))"
   ]
  },
  {
   "cell_type": "code",
   "execution_count": 23,
   "id": "b7e6d52b-0b67-463e-9a54-ba9546700dfb",
   "metadata": {},
   "outputs": [],
   "source": [
    "# this is the simplest model possible, we only look at the last character to make any prediction "
   ]
  },
  {
   "cell_type": "code",
   "execution_count": 24,
   "id": "c50e5670-f151-4eee-9cd1-c95d003529bf",
   "metadata": {
    "tags": []
   },
   "outputs": [],
   "source": [
    "#MATH TRICK WHICH UN SELF-ATTENTION"
   ]
  },
  {
   "cell_type": "code",
   "execution_count": 29,
   "id": "c4259d43-60dc-4f01-82c0-5c85109980f8",
   "metadata": {
    "tags": []
   },
   "outputs": [
    {
     "data": {
      "text/plain": [
       "torch.Size([4, 8, 2])"
      ]
     },
     "execution_count": 29,
     "metadata": {},
     "output_type": "execute_result"
    }
   ],
   "source": [
    "torch.manual_seed(1337)\n",
    "B,T,C = 4,8,2 #batch, time, channels \n",
    "x = torch.rand(B,T,C)\n",
    "x.shape"
   ]
  },
  {
   "cell_type": "code",
   "execution_count": 30,
   "id": "c8064fbb-3f0a-4f08-bbbf-6e481c496e02",
   "metadata": {
    "tags": []
   },
   "outputs": [],
   "source": [
    "# We want x[b,t] = mean_{i<=t} x[b,i]\n",
    "# bow = bag of words \n",
    "# we create the same size tensor because the new tensor is just\n",
    "# a representation of each average with respect to all the characters \n",
    "# before a specific index, for example: \n",
    "# in our batch are 8 characters and x= [1,2,10,40,0,5,7,60, 90]\n",
    "# we would calculate y like [(1/1, (1+2)/2, (1+2+10)/3... ]\n",
    "\n",
    "\n",
    "xbow = torch.zeros((B,T,C))\n",
    "# for each layer \n",
    "for b in range(B):\n",
    "    # for B,C matrix \n",
    "    # we go through each batch, character by character \n",
    "    for t in range(T):\n",
    "        # we accumulate the previous elements\n",
    "        # this gives me sequences of characters I don't need a sigle index\n",
    "        xprev = x[b,:t+1] # (t,C)\n",
    "        xbow[b,t] = torch.mean(xprev, 0)"
   ]
  },
  {
   "cell_type": "code",
   "execution_count": 31,
   "id": "f1612b96-fd6b-4b52-a3a3-e3ea59ee7e4a",
   "metadata": {
    "tags": []
   },
   "outputs": [
    {
     "data": {
      "text/plain": [
       "tensor([[0.0783, 0.4956],\n",
       "        [0.6231, 0.4224],\n",
       "        [0.2004, 0.0287],\n",
       "        [0.5851, 0.6967],\n",
       "        [0.1761, 0.2595],\n",
       "        [0.7086, 0.5809],\n",
       "        [0.0574, 0.7669],\n",
       "        [0.8778, 0.2434]])"
      ]
     },
     "execution_count": 31,
     "metadata": {},
     "output_type": "execute_result"
    }
   ],
   "source": [
    "x[0]"
   ]
  },
  {
   "cell_type": "code",
   "execution_count": 33,
   "id": "e24be57b-86de-4304-9d6d-c8ca7e60827e",
   "metadata": {
    "tags": []
   },
   "outputs": [
    {
     "data": {
      "text/plain": [
       "tensor([[0.0783, 0.4956],\n",
       "        [0.3507, 0.4590],\n",
       "        [0.3006, 0.3156],\n",
       "        [0.3717, 0.4108],\n",
       "        [0.3326, 0.3806],\n",
       "        [0.3953, 0.4140],\n",
       "        [0.3470, 0.4644],\n",
       "        [0.4134, 0.4368]])"
      ]
     },
     "execution_count": 33,
     "metadata": {},
     "output_type": "execute_result"
    }
   ],
   "source": [
    "# we see the first element is the same because we just calculate \n",
    "# [0.0783, 0.4956]/1\n",
    "# the second element is already the avg of the first and the second \n",
    "xbow[0]"
   ]
  },
  {
   "cell_type": "code",
   "execution_count": 40,
   "id": "40816859-71d8-42c9-804f-9147122906a2",
   "metadata": {
    "tags": []
   },
   "outputs": [
    {
     "name": "stdout",
     "output_type": "stream",
     "text": [
      "tensor([[[ -2.6642,  -1.7848, -17.0308,   8.7093,  16.8503],\n",
      "         [-15.1603,  -4.8279,  14.9910,  -8.5054,  -3.4352],\n",
      "         [ -1.8207, -14.3384, -15.7636,   3.0326,  10.9637],\n",
      "         [  5.7153,   4.5073, -11.6895,  16.0366,  -8.3240]],\n",
      "\n",
      "        [[  3.2703,   7.5833,  -6.5870,  -4.2999,   3.4426],\n",
      "         [ -3.3644,   5.8503,  10.0526, -26.8184,   4.5719],\n",
      "         [  4.3783,  -9.4889, -11.9226,  13.5755,   5.8686],\n",
      "         [  3.5064,  15.3336,   4.0833,  -2.9726,   1.2290]],\n",
      "\n",
      "        [[ -8.7923,   8.2540,   4.6322,   0.8437,   1.5877],\n",
      "         [-23.1061,   3.2266,  15.4314, -13.9239,  13.1140],\n",
      "         [ 13.8048,   3.5440,   3.5861,  -8.7726,   3.2667],\n",
      "         [ -5.6669,  -1.6618,  13.5205,   0.0670,  -3.7117]]])\n",
      "tensor([[ -2.6642,  -1.7848, -17.0308,   8.7093,  16.8503],\n",
      "        [-15.1603,  -4.8279,  14.9910,  -8.5054,  -3.4352],\n",
      "        [ -1.8207, -14.3384, -15.7636,   3.0326,  10.9637]])\n"
     ]
    },
    {
     "data": {
      "text/plain": [
       "tensor([-6.5484, -6.9837, -5.9344,  1.0788,  8.1263])"
      ]
     },
     "execution_count": 40,
     "metadata": {},
     "output_type": "execute_result"
    }
   ],
   "source": [
    "# this gives me the first 3 batches (here vocab_size would be 5 and batch_size 3)\n",
    "# B,T,C so 4 would be the time dimension (we look and strings the length of 4 at once)\n",
    "# xprev = a[0,:3] \n",
    "a = torch.randn((3,4,5))*10\n",
    "print(a)\n",
    "xprev = a[0,:3]\n",
    "print(xprev)\n",
    "# mean in the 0-dimension makes sentce because we add a character more\n",
    "# in each iteration like if our string ist \"blue\" \n",
    "# we look at the means of  \"b\", \"bl\", \"blu\", \"blue\"\n",
    "torch.mean(xprev, 0)"
   ]
  },
  {
   "cell_type": "code",
   "execution_count": 41,
   "id": "fb74b72a-367d-45e2-b833-c8795bdc9bc2",
   "metadata": {
    "tags": []
   },
   "outputs": [],
   "source": [
    "# the trick is that the loop above is inefficient \n",
    "# we can do this with matrix multiplication \n"
   ]
  },
  {
   "cell_type": "code",
   "execution_count": 42,
   "id": "2779ad89-899a-4723-9549-e92303ff7815",
   "metadata": {
    "tags": []
   },
   "outputs": [],
   "source": [
    "# my question is at what do we feed this bonus information into out network??"
   ]
  },
  {
   "cell_type": "code",
   "execution_count": 45,
   "id": "446193e1-ee94-4da0-bc84-99ea8719f696",
   "metadata": {
    "tags": []
   },
   "outputs": [
    {
     "data": {
      "image/png": "[encoded data removed]",
      "text/plain": [
       "<IPython.core.display.Image object>"
      ]
     },
     "execution_count": 45,
     "metadata": {},
     "output_type": "execute_result"
    }
   ],
   "source": [
    "from IPython.display import Image\n",
    "Image(\"Bildschirmfoto 2023-09-07 um 20.44.02.png\")"
   ]
  },
  {
   "cell_type": "code",
   "execution_count": null,
   "id": "dda081f5-2d41-46f2-bba6-0c26376344ad",
   "metadata": {},
   "outputs": [],
   "source": [
    "# we see that with this trill matrix we can sum up the element in the \n",
    "# zero dimension in the same way like above "
   ]
  },
  {
   "cell_type": "code",
   "execution_count": 46,
   "id": "73fe5dad-9326-4d53-9c74-cfc71b68b7f1",
   "metadata": {
    "tags": []
   },
   "outputs": [
    {
     "name": "stdout",
     "output_type": "stream",
     "text": [
      "a=\n",
      "tensor([[1.0000, 0.0000, 0.0000],\n",
      "        [0.5000, 0.5000, 0.0000],\n",
      "        [0.3333, 0.3333, 0.3333]])\n",
      "--\n",
      "b=\n",
      "tensor([[2., 7.],\n",
      "        [6., 4.],\n",
      "        [6., 5.]])\n",
      "--\n",
      "c=\n",
      "tensor([[2.0000, 7.0000],\n",
      "        [4.0000, 5.5000],\n",
      "        [4.6667, 5.3333]])\n"
     ]
    }
   ],
   "source": [
    "# toy example illustrating how matrix multiplication can be used for a \"weighted aggregation\"\n",
    "torch.manual_seed(42)\n",
    "a = torch.tril(torch.ones(3, 3))\n",
    "a = a / torch.sum(a, 1, keepdim=True)\n",
    "b = torch.randint(0,10,(3,2)).float()\n",
    "c = a @ b\n",
    "print('a=')\n",
    "print(a)\n",
    "print('--')\n",
    "print('b=')\n",
    "print(b)\n",
    "print('--')\n",
    "print('c=')\n",
    "print(c)"
   ]
  },
  {
   "cell_type": "code",
   "execution_count": 48,
   "id": "1819a4af-5cf7-4dfb-b1a4-9186dda30ca8",
   "metadata": {
    "tags": []
   },
   "outputs": [
    {
     "data": {
      "text/plain": [
       "True"
      ]
     },
     "execution_count": 48,
     "metadata": {},
     "output_type": "execute_result"
    }
   ],
   "source": [
    "# version 2: using matrix multiply for a weighted aggregation\n",
    "# juhu we replaced the loop with matrix multiplication \n",
    "wei = torch.tril(torch.ones(T, T))\n",
    "wei = wei / wei.sum(1, keepdim=True)\n",
    "xbow2 = wei @ x # (B, T, T) @ (B, T, C) ----> (B, T, C)\n",
    "torch.allclose(xbow, xbow2)"
   ]
  },
  {
   "cell_type": "code",
   "execution_count": 52,
   "id": "6b93f944-5c4f-4828-a36e-5af3389108e9",
   "metadata": {
    "tags": []
   },
   "outputs": [
    {
     "name": "stdout",
     "output_type": "stream",
     "text": [
      "tensor([[0., -inf, -inf, -inf, -inf, -inf, -inf, -inf],\n",
      "        [0., 0., -inf, -inf, -inf, -inf, -inf, -inf],\n",
      "        [0., 0., 0., -inf, -inf, -inf, -inf, -inf],\n",
      "        [0., 0., 0., 0., -inf, -inf, -inf, -inf],\n",
      "        [0., 0., 0., 0., 0., -inf, -inf, -inf],\n",
      "        [0., 0., 0., 0., 0., 0., -inf, -inf],\n",
      "        [0., 0., 0., 0., 0., 0., 0., -inf],\n",
      "        [0., 0., 0., 0., 0., 0., 0., 0.]])\n",
      "tensor([[1.0000, 0.0000, 0.0000, 0.0000, 0.0000, 0.0000, 0.0000, 0.0000],\n",
      "        [0.5000, 0.5000, 0.0000, 0.0000, 0.0000, 0.0000, 0.0000, 0.0000],\n",
      "        [0.3333, 0.3333, 0.3333, 0.0000, 0.0000, 0.0000, 0.0000, 0.0000],\n",
      "        [0.2500, 0.2500, 0.2500, 0.2500, 0.0000, 0.0000, 0.0000, 0.0000],\n",
      "        [0.2000, 0.2000, 0.2000, 0.2000, 0.2000, 0.0000, 0.0000, 0.0000],\n",
      "        [0.1667, 0.1667, 0.1667, 0.1667, 0.1667, 0.1667, 0.0000, 0.0000],\n",
      "        [0.1429, 0.1429, 0.1429, 0.1429, 0.1429, 0.1429, 0.1429, 0.0000],\n",
      "        [0.1250, 0.1250, 0.1250, 0.1250, 0.1250, 0.1250, 0.1250, 0.1250]])\n"
     ]
    },
    {
     "data": {
      "text/plain": [
       "True"
      ]
     },
     "execution_count": 52,
     "metadata": {},
     "output_type": "execute_result"
    }
   ],
   "source": [
    "# version 3: use Softmax\n",
    "tril = torch.tril(torch.ones(T, T))\n",
    "wei = torch.zeros((T,T))\n",
    "wei = wei.masked_fill(tril == 0, float('-inf'))\n",
    "print(wei)\n",
    "wei = F.softmax(wei, dim=-1)\n",
    "# that is crazy \n",
    "print(wei)\n",
    "xbow3 = wei @ x\n",
    "torch.allclose(xbow, xbow3)"
   ]
  },
  {
   "cell_type": "code",
   "execution_count": 55,
   "id": "769839d9-64e8-4e9d-bd24-5fdca684ccf1",
   "metadata": {
    "tags": []
   },
   "outputs": [
    {
     "name": "stdout",
     "output_type": "stream",
     "text": [
      "tensor([[1., 0., 0., 0., 0., 0., 0., 0.],\n",
      "        [1., 1., 0., 0., 0., 0., 0., 0.],\n",
      "        [1., 1., 1., 0., 0., 0., 0., 0.],\n",
      "        [1., 1., 1., 1., 0., 0., 0., 0.],\n",
      "        [1., 1., 1., 1., 1., 0., 0., 0.],\n",
      "        [1., 1., 1., 1., 1., 1., 0., 0.],\n",
      "        [1., 1., 1., 1., 1., 1., 1., 0.],\n",
      "        [1., 1., 1., 1., 1., 1., 1., 1.]])\n",
      "tensor([[0., -inf, -inf, -inf, -inf, -inf, -inf, -inf],\n",
      "        [0., 0., -inf, -inf, -inf, -inf, -inf, -inf],\n",
      "        [0., 0., 0., -inf, -inf, -inf, -inf, -inf],\n",
      "        [0., 0., 0., 0., -inf, -inf, -inf, -inf],\n",
      "        [0., 0., 0., 0., 0., -inf, -inf, -inf],\n",
      "        [0., 0., 0., 0., 0., 0., -inf, -inf],\n",
      "        [0., 0., 0., 0., 0., 0., 0., -inf],\n",
      "        [0., 0., 0., 0., 0., 0., 0., 0.]])\n",
      "tensor([[1.0000, 0.0000, 0.0000, 0.0000, 0.0000, 0.0000, 0.0000, 0.0000],\n",
      "        [0.5000, 0.5000, 0.0000, 0.0000, 0.0000, 0.0000, 0.0000, 0.0000],\n",
      "        [0.3333, 0.3333, 0.3333, 0.0000, 0.0000, 0.0000, 0.0000, 0.0000],\n",
      "        [0.2500, 0.2500, 0.2500, 0.2500, 0.0000, 0.0000, 0.0000, 0.0000],\n",
      "        [0.2000, 0.2000, 0.2000, 0.2000, 0.2000, 0.0000, 0.0000, 0.0000],\n",
      "        [0.1667, 0.1667, 0.1667, 0.1667, 0.1667, 0.1667, 0.0000, 0.0000],\n",
      "        [0.1429, 0.1429, 0.1429, 0.1429, 0.1429, 0.1429, 0.1429, 0.0000],\n",
      "        [0.1250, 0.1250, 0.1250, 0.1250, 0.1250, 0.1250, 0.1250, 0.1250]])\n"
     ]
    }
   ],
   "source": [
    "# version 4: self-attention\n",
    "torch.manual_seed(1337)\n",
    "B,T,C = 4, 8, 32\n",
    "x = torch.rand(B, T, C)\n",
    "tril = torch.tril(torch.ones(T,T)) # (8,8) Dreiecksmatrix \n",
    "print(tril)\n",
    "wei = torch.zeros((T, T))\n",
    "# nodes from the future never talk to nodes in the past because they would give away the answer \n",
    "# that is why we mask out the future characters (future nodes) with negativ infinity \n",
    "# we implement a decoding block here because we try to decode language\n",
    "# if we want to do sentiment analysis we would delete this line because \n",
    "# all the nodes can talk to each other\n",
    "wei = wei.masked_fill(tril == 0, float('-inf'))\n",
    "print(wei)\n",
    "wei = F.softmax(wei, dim=-1)\n",
    "print(wei)"
   ]
  },
  {
   "cell_type": "code",
   "execution_count": 58,
   "id": "9164ea09-4eea-4b88-ac60-473a08b58e75",
   "metadata": {
    "tags": []
   },
   "outputs": [
    {
     "name": "stdout",
     "output_type": "stream",
     "text": [
      "torch.Size([4, 8, 32])\n"
     ]
    },
    {
     "data": {
      "text/plain": [
       "tensor([[0.0783, 0.4956, 0.6231, 0.4224, 0.2004, 0.0287, 0.5851, 0.6967, 0.1761,\n",
       "         0.2595, 0.7086, 0.5809, 0.0574, 0.7669, 0.8778, 0.2434, 0.6005, 0.7079,\n",
       "         0.5102, 0.4065, 0.8864, 0.3578, 0.8963, 0.9639, 0.0148, 0.7358, 0.7884,\n",
       "         0.9469, 0.4656, 0.8378, 0.1269, 0.2132],\n",
       "        [0.1863, 0.4317, 0.5530, 0.5488, 0.3615, 0.2911, 0.5776, 0.4724, 0.3901,\n",
       "         0.4836, 0.3938, 0.6719, 0.4141, 0.4206, 0.7269, 0.4644, 0.7552, 0.7382,\n",
       "         0.6119, 0.2326, 0.8253, 0.6621, 0.9451, 0.8816, 0.0649, 0.7040, 0.4377,\n",
       "         0.7755, 0.4449, 0.4690, 0.1054, 0.3746],\n",
       "        [0.4263, 0.3797, 0.3773, 0.4383, 0.4679, 0.3290, 0.3993, 0.4645, 0.3643,\n",
       "         0.6169, 0.3579, 0.5362, 0.5083, 0.3385, 0.6241, 0.4651, 0.8227, 0.6767,\n",
       "         0.5627, 0.2755, 0.7978, 0.6396, 0.8043, 0.6204, 0.0506, 0.6505, 0.3151,\n",
       "         0.8003, 0.4769, 0.4969, 0.3523, 0.4761],\n",
       "        [0.5084, 0.4372, 0.2968, 0.5184, 0.3528, 0.4892, 0.3546, 0.5627, 0.4024,\n",
       "         0.5916, 0.3513, 0.4405, 0.4336, 0.3277, 0.6383, 0.5366, 0.8159, 0.5172,\n",
       "         0.5169, 0.4224, 0.6497, 0.5158, 0.8080, 0.6433, 0.1078, 0.5492, 0.2492,\n",
       "         0.7385, 0.5551, 0.3968, 0.4012, 0.5597],\n",
       "        [0.5825, 0.5122, 0.3882, 0.4711, 0.4053, 0.5552, 0.3332, 0.6174, 0.4223,\n",
       "         0.4745, 0.3027, 0.4210, 0.3540, 0.4489, 0.5659, 0.5139, 0.8438, 0.4896,\n",
       "         0.5842, 0.3514, 0.6061, 0.4589, 0.8002, 0.6327, 0.2733, 0.4450, 0.2779,\n",
       "         0.7124, 0.5906, 0.4532, 0.3830, 0.6302],\n",
       "        [0.5405, 0.5731, 0.3259, 0.5488, 0.5027, 0.4832, 0.4229, 0.6192, 0.4351,\n",
       "         0.4363, 0.3681, 0.5151, 0.3905, 0.5378, 0.5856, 0.5486, 0.7707, 0.5263,\n",
       "         0.5182, 0.3877, 0.5725, 0.5379, 0.8006, 0.6601, 0.2786, 0.4345, 0.2673,\n",
       "         0.7221, 0.6392, 0.4086, 0.3949, 0.5451],\n",
       "        [0.4659, 0.6001, 0.4069, 0.5658, 0.5369, 0.4826, 0.3772, 0.5529, 0.3752,\n",
       "         0.4765, 0.3282, 0.4496, 0.4581, 0.5552, 0.5775, 0.4749, 0.6831, 0.5189,\n",
       "         0.4560, 0.3778, 0.5356, 0.4930, 0.7723, 0.6078, 0.2623, 0.4240, 0.3169,\n",
       "         0.7136, 0.6740, 0.3627, 0.4717, 0.5988],\n",
       "        [0.4573, 0.6116, 0.3776, 0.5991, 0.5173, 0.4582, 0.3423, 0.5050, 0.3718,\n",
       "         0.5078, 0.3180, 0.4839, 0.4940, 0.4873, 0.5991, 0.4929, 0.6841, 0.4562,\n",
       "         0.4654, 0.4264, 0.5327, 0.5369, 0.6920, 0.6094, 0.3503, 0.4065, 0.3569,\n",
       "         0.7032, 0.6138, 0.4082, 0.5060, 0.5687]])"
      ]
     },
     "execution_count": 58,
     "metadata": {},
     "output_type": "execute_result"
    }
   ],
   "source": [
    "# (4,8,32) = (8,8) @ (4,8,32)\n",
    "out = wei@x\n",
    "print(out.shape)\n",
    "out[0]"
   ]
  },
  {
   "cell_type": "code",
   "execution_count": 70,
   "id": "2374c0af-cd55-4e7a-aef2-87bfa0f000ac",
   "metadata": {
    "tags": []
   },
   "outputs": [],
   "source": [
    "# let's see a single Head perform self-attention\n",
    "torch.manual_seed(1337)\n",
    "B,T,C = 4, 8, 32\n",
    "x = torch.rand(B, T, C)\n",
    "\n",
    "\n",
    "head_size = 16\n",
    "# create the linear layers \n",
    "# in= 32, out = 16\n",
    "key = nn.Linear(C, head_size, bias=False)\n",
    "# in= 32, out = 16\n",
    "query = nn.Linear(C, head_size, bias=False)\n",
    "# in= 32, out = 16\n",
    "value = nn.Linear(C, head_size, bias=False)\n",
    "# simple matrix multiplication of the embedding vectors with the weights of the layers\n",
    "# we call the forward function implicitly \n",
    "# we calculate input@weights 4x8x32@1x32x16 we add the one because of broadcasting \n",
    "k = key(x) # 4x8x16\n",
    "q = query(x) # 4x8x16\n",
    "v = value(x) # 4x8x16\n",
    "\n",
    "# - -3 corresponds to the dimension of size 4\n",
    "# - -2 corresponds to the dimension of size 8\n",
    "# - -1 corresponds to the dimension of size 16\n",
    "\n",
    "# When you call k.transpose(-2, -1), you swap the last two dimensions. \n",
    "# So now the dimensions of k become 4x16x8.\n",
    "wei = q@k.transpose(-2, -1) # (4,8,16) @ (4,16,8) ---> (B, T, T)"
   ]
  },
  {
   "cell_type": "code",
   "execution_count": 71,
   "id": "d774a760-cc52-4dd3-b5e8-4a4993eb0526",
   "metadata": {
    "tags": []
   },
   "outputs": [
    {
     "name": "stdout",
     "output_type": "stream",
     "text": [
      "tensor([[1.0000, 0.0000, 0.0000, 0.0000, 0.0000, 0.0000, 0.0000, 0.0000],\n",
      "        [0.4409, 0.5591, 0.0000, 0.0000, 0.0000, 0.0000, 0.0000, 0.0000],\n",
      "        [0.2975, 0.3373, 0.3652, 0.0000, 0.0000, 0.0000, 0.0000, 0.0000],\n",
      "        [0.2211, 0.2898, 0.2236, 0.2654, 0.0000, 0.0000, 0.0000, 0.0000],\n",
      "        [0.1832, 0.2163, 0.1954, 0.2437, 0.1614, 0.0000, 0.0000, 0.0000],\n",
      "        [0.1330, 0.2227, 0.1784, 0.2159, 0.1044, 0.1456, 0.0000, 0.0000],\n",
      "        [0.1283, 0.1367, 0.1385, 0.1522, 0.1083, 0.1341, 0.2021, 0.0000],\n",
      "        [0.1064, 0.1332, 0.1265, 0.1445, 0.0940, 0.1200, 0.1231, 0.1524]],\n",
      "       grad_fn=<SelectBackward0>)\n"
     ]
    },
    {
     "data": {
      "text/plain": [
       "torch.Size([4, 8, 16])"
      ]
     },
     "execution_count": 71,
     "metadata": {},
     "output_type": "execute_result"
    }
   ],
   "source": [
    "tril = torch.tril(torch.ones(T,T)) # (8,8) Dreiecksmatrix \n",
    "# wei = torch.zeros((T, T))\n",
    "# nodes from the future never talk to nodes in the past because they would give away the answer \n",
    "# that is why we mask out the future characters (future nodes) with negativ infinity \n",
    "# we implement a decoding block here because we try to decode language\n",
    "# if we want to do sentiment analysis we would delete this line because \n",
    "# all the nodes can talk to each other\n",
    "wei = wei.masked_fill(tril == 0, float('-inf'))\n",
    "wei = F.softmax(wei, dim=-1)\n",
    "print(wei[0])\n",
    "\n",
    "out = wei@v\n",
    "out.shape"
   ]
  },
  {
   "cell_type": "code",
   "execution_count": null,
   "id": "84db014c-2b94-46d8-a76c-5869321d6f5f",
   "metadata": {},
   "outputs": [],
   "source": []
  }
 ],
 "metadata": {
  "kernelspec": {
   "display_name": "Python 3 (ipykernel)",
   "language": "python",
   "name": "python3"
  },
  "language_info": {
   "codemirror_mode": {
    "name": "ipython",
    "version": 3
   },
   "file_extension": ".py",
   "mimetype": "text/x-python",
   "name": "python",
   "nbconvert_exporter": "python",
   "pygments_lexer": "ipython3",
   "version": "3.11.4"
  }
 },
 "nbformat": 4,
 "nbformat_minor": 5
}
